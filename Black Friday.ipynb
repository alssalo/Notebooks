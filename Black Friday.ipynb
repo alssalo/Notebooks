{
 "cells": [
  {
   "cell_type": "code",
   "execution_count": 407,
   "metadata": {},
   "outputs": [],
   "source": [
    "#import the necessary libraries\n",
    "\n",
    "import pandas as pd\n",
    "import matplotlib.pyplot as plt\n",
    "import seaborn as sns"
   ]
  },
  {
   "cell_type": "code",
   "execution_count": 22,
   "metadata": {},
   "outputs": [
    {
     "name": "stdout",
     "output_type": "stream",
     "text": [
      "C:\\Users\\Jo's\\Documents\\custom projects\\Black Friday\\black-friday\n"
     ]
    }
   ],
   "source": [
    "cd C:\\Users\\Jo's\\Documents\\custom projects\\Black Friday\\black-friday"
   ]
  },
  {
   "cell_type": "code",
   "execution_count": 268,
   "metadata": {},
   "outputs": [
    {
     "name": "stdout",
     "output_type": "stream",
     "text": [
      "shape of dataframe:  (550068, 12)\n"
     ]
    },
    {
     "data": {
      "text/html": [
       "<div>\n",
       "<style scoped>\n",
       "    .dataframe tbody tr th:only-of-type {\n",
       "        vertical-align: middle;\n",
       "    }\n",
       "\n",
       "    .dataframe tbody tr th {\n",
       "        vertical-align: top;\n",
       "    }\n",
       "\n",
       "    .dataframe thead th {\n",
       "        text-align: right;\n",
       "    }\n",
       "</style>\n",
       "<table border=\"1\" class=\"dataframe\">\n",
       "  <thead>\n",
       "    <tr style=\"text-align: right;\">\n",
       "      <th></th>\n",
       "      <th>User_ID</th>\n",
       "      <th>Product_ID</th>\n",
       "      <th>Gender</th>\n",
       "      <th>Age</th>\n",
       "      <th>Occupation</th>\n",
       "      <th>City_Category</th>\n",
       "      <th>Stay_In_Current_City_Years</th>\n",
       "      <th>Marital_Status</th>\n",
       "      <th>Product_Category_1</th>\n",
       "      <th>Product_Category_2</th>\n",
       "      <th>Product_Category_3</th>\n",
       "      <th>Purchase</th>\n",
       "    </tr>\n",
       "  </thead>\n",
       "  <tbody>\n",
       "    <tr>\n",
       "      <th>0</th>\n",
       "      <td>1000001</td>\n",
       "      <td>P00069042</td>\n",
       "      <td>F</td>\n",
       "      <td>0-17</td>\n",
       "      <td>10</td>\n",
       "      <td>A</td>\n",
       "      <td>2</td>\n",
       "      <td>0</td>\n",
       "      <td>3</td>\n",
       "      <td>NaN</td>\n",
       "      <td>NaN</td>\n",
       "      <td>8370</td>\n",
       "    </tr>\n",
       "    <tr>\n",
       "      <th>1</th>\n",
       "      <td>1000001</td>\n",
       "      <td>P00248942</td>\n",
       "      <td>F</td>\n",
       "      <td>0-17</td>\n",
       "      <td>10</td>\n",
       "      <td>A</td>\n",
       "      <td>2</td>\n",
       "      <td>0</td>\n",
       "      <td>1</td>\n",
       "      <td>6.0</td>\n",
       "      <td>14.0</td>\n",
       "      <td>15200</td>\n",
       "    </tr>\n",
       "    <tr>\n",
       "      <th>2</th>\n",
       "      <td>1000001</td>\n",
       "      <td>P00087842</td>\n",
       "      <td>F</td>\n",
       "      <td>0-17</td>\n",
       "      <td>10</td>\n",
       "      <td>A</td>\n",
       "      <td>2</td>\n",
       "      <td>0</td>\n",
       "      <td>12</td>\n",
       "      <td>NaN</td>\n",
       "      <td>NaN</td>\n",
       "      <td>1422</td>\n",
       "    </tr>\n",
       "    <tr>\n",
       "      <th>3</th>\n",
       "      <td>1000001</td>\n",
       "      <td>P00085442</td>\n",
       "      <td>F</td>\n",
       "      <td>0-17</td>\n",
       "      <td>10</td>\n",
       "      <td>A</td>\n",
       "      <td>2</td>\n",
       "      <td>0</td>\n",
       "      <td>12</td>\n",
       "      <td>14.0</td>\n",
       "      <td>NaN</td>\n",
       "      <td>1057</td>\n",
       "    </tr>\n",
       "    <tr>\n",
       "      <th>4</th>\n",
       "      <td>1000002</td>\n",
       "      <td>P00285442</td>\n",
       "      <td>M</td>\n",
       "      <td>55+</td>\n",
       "      <td>16</td>\n",
       "      <td>C</td>\n",
       "      <td>4+</td>\n",
       "      <td>0</td>\n",
       "      <td>8</td>\n",
       "      <td>NaN</td>\n",
       "      <td>NaN</td>\n",
       "      <td>7969</td>\n",
       "    </tr>\n",
       "  </tbody>\n",
       "</table>\n",
       "</div>"
      ],
      "text/plain": [
       "   User_ID Product_ID Gender   Age  Occupation City_Category  \\\n",
       "0  1000001  P00069042      F  0-17          10             A   \n",
       "1  1000001  P00248942      F  0-17          10             A   \n",
       "2  1000001  P00087842      F  0-17          10             A   \n",
       "3  1000001  P00085442      F  0-17          10             A   \n",
       "4  1000002  P00285442      M   55+          16             C   \n",
       "\n",
       "  Stay_In_Current_City_Years  Marital_Status  Product_Category_1  \\\n",
       "0                          2               0                   3   \n",
       "1                          2               0                   1   \n",
       "2                          2               0                  12   \n",
       "3                          2               0                  12   \n",
       "4                         4+               0                   8   \n",
       "\n",
       "   Product_Category_2  Product_Category_3  Purchase  \n",
       "0                 NaN                 NaN      8370  \n",
       "1                 6.0                14.0     15200  \n",
       "2                 NaN                 NaN      1422  \n",
       "3                14.0                 NaN      1057  \n",
       "4                 NaN                 NaN      7969  "
      ]
     },
     "execution_count": 268,
     "metadata": {},
     "output_type": "execute_result"
    }
   ],
   "source": [
    "#read data\n",
    "train=pd.read_csv(\"train.csv\")\n",
    "test=pd.read_csv(\"test.csv\")\n",
    "print(\"shape of dataframe: \",train.shape)\n",
    "train.head()"
   ]
  },
  {
   "cell_type": "code",
   "execution_count": 269,
   "metadata": {},
   "outputs": [
    {
     "data": {
      "text/html": [
       "<div>\n",
       "<style scoped>\n",
       "    .dataframe tbody tr th:only-of-type {\n",
       "        vertical-align: middle;\n",
       "    }\n",
       "\n",
       "    .dataframe tbody tr th {\n",
       "        vertical-align: top;\n",
       "    }\n",
       "\n",
       "    .dataframe thead th {\n",
       "        text-align: right;\n",
       "    }\n",
       "</style>\n",
       "<table border=\"1\" class=\"dataframe\">\n",
       "  <thead>\n",
       "    <tr style=\"text-align: right;\">\n",
       "      <th></th>\n",
       "      <th>User_ID</th>\n",
       "      <th>Product_ID</th>\n",
       "      <th>Gender</th>\n",
       "      <th>Age</th>\n",
       "      <th>Occupation</th>\n",
       "      <th>City_Category</th>\n",
       "      <th>Stay_In_Current_City_Years</th>\n",
       "      <th>Marital_Status</th>\n",
       "      <th>Product_Category_1</th>\n",
       "      <th>Product_Category_2</th>\n",
       "      <th>Product_Category_3</th>\n",
       "    </tr>\n",
       "  </thead>\n",
       "  <tbody>\n",
       "    <tr>\n",
       "      <th>0</th>\n",
       "      <td>1000004</td>\n",
       "      <td>P00128942</td>\n",
       "      <td>M</td>\n",
       "      <td>46-50</td>\n",
       "      <td>7</td>\n",
       "      <td>B</td>\n",
       "      <td>2</td>\n",
       "      <td>1</td>\n",
       "      <td>1</td>\n",
       "      <td>11.0</td>\n",
       "      <td>NaN</td>\n",
       "    </tr>\n",
       "    <tr>\n",
       "      <th>1</th>\n",
       "      <td>1000009</td>\n",
       "      <td>P00113442</td>\n",
       "      <td>M</td>\n",
       "      <td>26-35</td>\n",
       "      <td>17</td>\n",
       "      <td>C</td>\n",
       "      <td>0</td>\n",
       "      <td>0</td>\n",
       "      <td>3</td>\n",
       "      <td>5.0</td>\n",
       "      <td>NaN</td>\n",
       "    </tr>\n",
       "    <tr>\n",
       "      <th>2</th>\n",
       "      <td>1000010</td>\n",
       "      <td>P00288442</td>\n",
       "      <td>F</td>\n",
       "      <td>36-45</td>\n",
       "      <td>1</td>\n",
       "      <td>B</td>\n",
       "      <td>4+</td>\n",
       "      <td>1</td>\n",
       "      <td>5</td>\n",
       "      <td>14.0</td>\n",
       "      <td>NaN</td>\n",
       "    </tr>\n",
       "    <tr>\n",
       "      <th>3</th>\n",
       "      <td>1000010</td>\n",
       "      <td>P00145342</td>\n",
       "      <td>F</td>\n",
       "      <td>36-45</td>\n",
       "      <td>1</td>\n",
       "      <td>B</td>\n",
       "      <td>4+</td>\n",
       "      <td>1</td>\n",
       "      <td>4</td>\n",
       "      <td>9.0</td>\n",
       "      <td>NaN</td>\n",
       "    </tr>\n",
       "    <tr>\n",
       "      <th>4</th>\n",
       "      <td>1000011</td>\n",
       "      <td>P00053842</td>\n",
       "      <td>F</td>\n",
       "      <td>26-35</td>\n",
       "      <td>1</td>\n",
       "      <td>C</td>\n",
       "      <td>1</td>\n",
       "      <td>0</td>\n",
       "      <td>4</td>\n",
       "      <td>5.0</td>\n",
       "      <td>12.0</td>\n",
       "    </tr>\n",
       "  </tbody>\n",
       "</table>\n",
       "</div>"
      ],
      "text/plain": [
       "   User_ID Product_ID Gender    Age  Occupation City_Category  \\\n",
       "0  1000004  P00128942      M  46-50           7             B   \n",
       "1  1000009  P00113442      M  26-35          17             C   \n",
       "2  1000010  P00288442      F  36-45           1             B   \n",
       "3  1000010  P00145342      F  36-45           1             B   \n",
       "4  1000011  P00053842      F  26-35           1             C   \n",
       "\n",
       "  Stay_In_Current_City_Years  Marital_Status  Product_Category_1  \\\n",
       "0                          2               1                   1   \n",
       "1                          0               0                   3   \n",
       "2                         4+               1                   5   \n",
       "3                         4+               1                   4   \n",
       "4                          1               0                   4   \n",
       "\n",
       "   Product_Category_2  Product_Category_3  \n",
       "0                11.0                 NaN  \n",
       "1                 5.0                 NaN  \n",
       "2                14.0                 NaN  \n",
       "3                 9.0                 NaN  \n",
       "4                 5.0                12.0  "
      ]
     },
     "execution_count": 269,
     "metadata": {},
     "output_type": "execute_result"
    }
   ],
   "source": [
    "test.head()"
   ]
  },
  {
   "cell_type": "code",
   "execution_count": 27,
   "metadata": {},
   "outputs": [
    {
     "name": "stdout",
     "output_type": "stream",
     "text": [
      "<class 'pandas.core.frame.DataFrame'>\n",
      "RangeIndex: 550068 entries, 0 to 550067\n",
      "Data columns (total 12 columns):\n",
      "User_ID                       550068 non-null int64\n",
      "Product_ID                    550068 non-null object\n",
      "Gender                        550068 non-null object\n",
      "Age                           550068 non-null object\n",
      "Occupation                    550068 non-null int64\n",
      "City_Category                 550068 non-null object\n",
      "Stay_In_Current_City_Years    550068 non-null object\n",
      "Marital_Status                550068 non-null int64\n",
      "Product_Category_1            550068 non-null int64\n",
      "Product_Category_2            376430 non-null float64\n",
      "Product_Category_3            166821 non-null float64\n",
      "Purchase                      550068 non-null int64\n",
      "dtypes: float64(2), int64(5), object(5)\n",
      "memory usage: 50.4+ MB\n"
     ]
    }
   ],
   "source": [
    "train.info()"
   ]
  },
  {
   "cell_type": "code",
   "execution_count": 29,
   "metadata": {},
   "outputs": [
    {
     "data": {
      "text/plain": [
       "Text(0.5, 1.0, 'Missing Values counts in each columns')"
      ]
     },
     "execution_count": 29,
     "metadata": {},
     "output_type": "execute_result"
    },
    {
     "data": {
      "image/png": "[encoded data removed]",
      "text/plain": [
       "<Figure size 1008x864 with 1 Axes>"
      ]
     },
     "metadata": {
      "needs_background": "light"
     },
     "output_type": "display_data"
    }
   ],
   "source": [
    "# dataframe containing the info of column name the their NaN values.\n",
    "missing_df=pd.DataFrame(train.isnull().sum().reset_index()).rename(columns={\"index\":\"attribute_name\",0:\"missing_value_count\"}).sort_values(by=\"missing_value_count\",ascending=False)\n",
    "\n",
    "#plotting the missing values\n",
    "\n",
    "plt.figure(figsize=(14,12))\n",
    "sns.barplot(x=missing_df.missing_value_count,y=missing_df.attribute_name,palette=\"Blues_d\")\n",
    "plt.title(\"Missing Values counts in each columns\")"
   ]
  },
  {
   "cell_type": "code",
   "execution_count": 30,
   "metadata": {},
   "outputs": [
    {
     "data": {
      "text/html": [
       "<div>\n",
       "<style scoped>\n",
       "    .dataframe tbody tr th:only-of-type {\n",
       "        vertical-align: middle;\n",
       "    }\n",
       "\n",
       "    .dataframe tbody tr th {\n",
       "        vertical-align: top;\n",
       "    }\n",
       "\n",
       "    .dataframe thead th {\n",
       "        text-align: right;\n",
       "    }\n",
       "</style>\n",
       "<table border=\"1\" class=\"dataframe\">\n",
       "  <thead>\n",
       "    <tr style=\"text-align: right;\">\n",
       "      <th></th>\n",
       "      <th>User_ID</th>\n",
       "      <th>Occupation</th>\n",
       "      <th>Marital_Status</th>\n",
       "      <th>Product_Category_1</th>\n",
       "      <th>Product_Category_2</th>\n",
       "      <th>Product_Category_3</th>\n",
       "      <th>Purchase</th>\n",
       "    </tr>\n",
       "  </thead>\n",
       "  <tbody>\n",
       "    <tr>\n",
       "      <th>count</th>\n",
       "      <td>5.500680e+05</td>\n",
       "      <td>550068.000000</td>\n",
       "      <td>550068.000000</td>\n",
       "      <td>550068.000000</td>\n",
       "      <td>376430.000000</td>\n",
       "      <td>166821.000000</td>\n",
       "      <td>550068.000000</td>\n",
       "    </tr>\n",
       "    <tr>\n",
       "      <th>mean</th>\n",
       "      <td>1.003029e+06</td>\n",
       "      <td>8.076707</td>\n",
       "      <td>0.409653</td>\n",
       "      <td>5.404270</td>\n",
       "      <td>9.842329</td>\n",
       "      <td>12.668243</td>\n",
       "      <td>9263.968713</td>\n",
       "    </tr>\n",
       "    <tr>\n",
       "      <th>std</th>\n",
       "      <td>1.727592e+03</td>\n",
       "      <td>6.522660</td>\n",
       "      <td>0.491770</td>\n",
       "      <td>3.936211</td>\n",
       "      <td>5.086590</td>\n",
       "      <td>4.125338</td>\n",
       "      <td>5023.065394</td>\n",
       "    </tr>\n",
       "    <tr>\n",
       "      <th>min</th>\n",
       "      <td>1.000001e+06</td>\n",
       "      <td>0.000000</td>\n",
       "      <td>0.000000</td>\n",
       "      <td>1.000000</td>\n",
       "      <td>2.000000</td>\n",
       "      <td>3.000000</td>\n",
       "      <td>12.000000</td>\n",
       "    </tr>\n",
       "    <tr>\n",
       "      <th>25%</th>\n",
       "      <td>1.001516e+06</td>\n",
       "      <td>2.000000</td>\n",
       "      <td>0.000000</td>\n",
       "      <td>1.000000</td>\n",
       "      <td>5.000000</td>\n",
       "      <td>9.000000</td>\n",
       "      <td>5823.000000</td>\n",
       "    </tr>\n",
       "    <tr>\n",
       "      <th>50%</th>\n",
       "      <td>1.003077e+06</td>\n",
       "      <td>7.000000</td>\n",
       "      <td>0.000000</td>\n",
       "      <td>5.000000</td>\n",
       "      <td>9.000000</td>\n",
       "      <td>14.000000</td>\n",
       "      <td>8047.000000</td>\n",
       "    </tr>\n",
       "    <tr>\n",
       "      <th>75%</th>\n",
       "      <td>1.004478e+06</td>\n",
       "      <td>14.000000</td>\n",
       "      <td>1.000000</td>\n",
       "      <td>8.000000</td>\n",
       "      <td>15.000000</td>\n",
       "      <td>16.000000</td>\n",
       "      <td>12054.000000</td>\n",
       "    </tr>\n",
       "    <tr>\n",
       "      <th>max</th>\n",
       "      <td>1.006040e+06</td>\n",
       "      <td>20.000000</td>\n",
       "      <td>1.000000</td>\n",
       "      <td>20.000000</td>\n",
       "      <td>18.000000</td>\n",
       "      <td>18.000000</td>\n",
       "      <td>23961.000000</td>\n",
       "    </tr>\n",
       "  </tbody>\n",
       "</table>\n",
       "</div>"
      ],
      "text/plain": [
       "            User_ID     Occupation  Marital_Status  Product_Category_1  \\\n",
       "count  5.500680e+05  550068.000000   550068.000000       550068.000000   \n",
       "mean   1.003029e+06       8.076707        0.409653            5.404270   \n",
       "std    1.727592e+03       6.522660        0.491770            3.936211   \n",
       "min    1.000001e+06       0.000000        0.000000            1.000000   \n",
       "25%    1.001516e+06       2.000000        0.000000            1.000000   \n",
       "50%    1.003077e+06       7.000000        0.000000            5.000000   \n",
       "75%    1.004478e+06      14.000000        1.000000            8.000000   \n",
       "max    1.006040e+06      20.000000        1.000000           20.000000   \n",
       "\n",
       "       Product_Category_2  Product_Category_3       Purchase  \n",
       "count       376430.000000       166821.000000  550068.000000  \n",
       "mean             9.842329           12.668243    9263.968713  \n",
       "std              5.086590            4.125338    5023.065394  \n",
       "min              2.000000            3.000000      12.000000  \n",
       "25%              5.000000            9.000000    5823.000000  \n",
       "50%              9.000000           14.000000    8047.000000  \n",
       "75%             15.000000           16.000000   12054.000000  \n",
       "max             18.000000           18.000000   23961.000000  "
      ]
     },
     "execution_count": 30,
     "metadata": {},
     "output_type": "execute_result"
    }
   ],
   "source": [
    "train.describe()"
   ]
  },
  {
   "cell_type": "code",
   "execution_count": 32,
   "metadata": {},
   "outputs": [
    {
     "data": {
      "text/html": [
       "<div>\n",
       "<style scoped>\n",
       "    .dataframe tbody tr th:only-of-type {\n",
       "        vertical-align: middle;\n",
       "    }\n",
       "\n",
       "    .dataframe tbody tr th {\n",
       "        vertical-align: top;\n",
       "    }\n",
       "\n",
       "    .dataframe thead th {\n",
       "        text-align: right;\n",
       "    }\n",
       "</style>\n",
       "<table border=\"1\" class=\"dataframe\">\n",
       "  <thead>\n",
       "    <tr style=\"text-align: right;\">\n",
       "      <th></th>\n",
       "      <th>Product_ID</th>\n",
       "      <th>Gender</th>\n",
       "      <th>Age</th>\n",
       "      <th>City_Category</th>\n",
       "      <th>Stay_In_Current_City_Years</th>\n",
       "    </tr>\n",
       "  </thead>\n",
       "  <tbody>\n",
       "    <tr>\n",
       "      <th>count</th>\n",
       "      <td>550068</td>\n",
       "      <td>550068</td>\n",
       "      <td>550068</td>\n",
       "      <td>550068</td>\n",
       "      <td>550068</td>\n",
       "    </tr>\n",
       "    <tr>\n",
       "      <th>unique</th>\n",
       "      <td>3631</td>\n",
       "      <td>2</td>\n",
       "      <td>7</td>\n",
       "      <td>3</td>\n",
       "      <td>5</td>\n",
       "    </tr>\n",
       "    <tr>\n",
       "      <th>top</th>\n",
       "      <td>P00265242</td>\n",
       "      <td>M</td>\n",
       "      <td>26-35</td>\n",
       "      <td>B</td>\n",
       "      <td>1</td>\n",
       "    </tr>\n",
       "    <tr>\n",
       "      <th>freq</th>\n",
       "      <td>1880</td>\n",
       "      <td>414259</td>\n",
       "      <td>219587</td>\n",
       "      <td>231173</td>\n",
       "      <td>193821</td>\n",
       "    </tr>\n",
       "  </tbody>\n",
       "</table>\n",
       "</div>"
      ],
      "text/plain": [
       "       Product_ID  Gender     Age City_Category Stay_In_Current_City_Years\n",
       "count      550068  550068  550068        550068                     550068\n",
       "unique       3631       2       7             3                          5\n",
       "top     P00265242       M   26-35             B                          1\n",
       "freq         1880  414259  219587        231173                     193821"
      ]
     },
     "execution_count": 32,
     "metadata": {},
     "output_type": "execute_result"
    }
   ],
   "source": [
    "train.describe(include = ['O'])"
   ]
  },
  {
   "cell_type": "markdown",
   "metadata": {},
   "source": [
    "We know that all the features are categorical expect for \"purchase\" feature.And most of the data in \"product_category_2\" and \"product_category_3\" are missing.First let impute NaN values with 0s to make another category and explore the these features to get a better understanding."
   ]
  },
  {
   "cell_type": "code",
   "execution_count": 278,
   "metadata": {},
   "outputs": [],
   "source": [
    "#Fill na with Zero\n",
    "train.fillna(0, inplace=True)"
   ]
  },
  {
   "cell_type": "code",
   "execution_count": 53,
   "metadata": {},
   "outputs": [
    {
     "data": {
      "text/plain": [
       "5891"
      ]
     },
     "execution_count": 53,
     "metadata": {},
     "output_type": "execute_result"
    }
   ],
   "source": [
    "#number of distinct users.\n",
    "train.User_ID.nunique()"
   ]
  },
  {
   "cell_type": "markdown",
   "metadata": {},
   "source": [
    "Let's check the relevance of productID and product category"
   ]
  },
  {
   "cell_type": "code",
   "execution_count": 87,
   "metadata": {},
   "outputs": [
    {
     "data": {
      "text/plain": [
       "546437"
      ]
     },
     "execution_count": 87,
     "metadata": {},
     "output_type": "execute_result"
    }
   ],
   "source": [
    "#getting the number of duplicates in this the below combination of features\n",
    "train[[\"Product_ID\",\"Product_Category_1\",\"Product_Category_2\",\"Product_Category_3\"]].duplicated().sum()"
   ]
  },
  {
   "cell_type": "code",
   "execution_count": 88,
   "metadata": {},
   "outputs": [
    {
     "data": {
      "text/plain": [
       "546437"
      ]
     },
     "execution_count": 88,
     "metadata": {},
     "output_type": "execute_result"
    }
   ],
   "source": [
    "len(train)-train.Product_ID.nunique()"
   ]
  },
  {
   "cell_type": "markdown",
   "metadata": {},
   "source": [
    "Since the above two results are same ,we can confirm that a productID can belong to multiple category."
   ]
  },
  {
   "cell_type": "markdown",
   "metadata": {},
   "source": [
    "Since \"Product_Category_1\" has no NaN value,for initial exploration ,we will use Product_Category_1 to find relationships with other features."
   ]
  },
  {
   "cell_type": "markdown",
   "metadata": {},
   "source": [
    "Now lets see which category of product are mostly brought"
   ]
  },
  {
   "cell_type": "code",
   "execution_count": 473,
   "metadata": {},
   "outputs": [
    {
     "name": "stdout",
     "output_type": "stream",
     "text": [
      "Number of categoirs in product_1:  20\n"
     ]
    },
    {
     "data": {
      "text/plain": [
       "Text(0.5, 1.0, 'Product Category 1 sales count')"
      ]
     },
     "execution_count": 473,
     "metadata": {},
     "output_type": "execute_result"
    },
    {
     "data": {
      "image/png": "[encoded data removed]",
      "text/plain": [
       "<Figure size 432x288 with 1 Axes>"
      ]
     },
     "metadata": {
      "needs_background": "light"
     },
     "output_type": "display_data"
    }
   ],
   "source": [
    "print(\"Number of categoirs in product_1: \",train.Product_Category_1.value_counts().count())\n",
    "train.Product_Category_1.value_counts().plot.bar()\n",
    "plt.title(\"Product Category 1 sales count\")"
   ]
  },
  {
   "cell_type": "code",
   "execution_count": 89,
   "metadata": {},
   "outputs": [],
   "source": [
    "#print(\"Number of categoirs in product_2: \",train.Product_Category_2.value_counts().count())\n",
    "#train.Product_Category_2.value_counts().plot.bar()"
   ]
  },
  {
   "cell_type": "code",
   "execution_count": null,
   "metadata": {},
   "outputs": [],
   "source": [
    "#print(\"Number of categoirs in product_3: \",train.Product_Category_3.value_counts().count())\n",
    "#train.Product_Category_3.value_counts().plot.bar()"
   ]
  },
  {
   "cell_type": "code",
   "execution_count": 474,
   "metadata": {},
   "outputs": [
    {
     "data": {
      "text/plain": [
       "Text(0.5, 1.0, 'Most sold product')"
      ]
     },
     "execution_count": 474,
     "metadata": {},
     "output_type": "execute_result"
    },
    {
     "data": {
      "image/png": "[encoded data removed]",
      "text/plain": [
       "<Figure size 432x288 with 1 Axes>"
      ]
     },
     "metadata": {
      "needs_background": "light"
     },
     "output_type": "display_data"
    }
   ],
   "source": [
    "train.Product_ID.value_counts(sort=True)[:10].plot.bar()\n",
    "plt.title(\"Most sold product\")"
   ]
  },
  {
   "cell_type": "markdown",
   "metadata": {},
   "source": [
    "## Oberservation\n",
    "we can see that mostly brought products are category 5,1 and 8 .These are striking high compared to other products. "
   ]
  },
  {
   "cell_type": "code",
   "execution_count": 91,
   "metadata": {
    "scrolled": false
   },
   "outputs": [],
   "source": [
    "#train.groupby([\"Product_ID\",\"Product_Category_1\",\"Product_Category_2\",\"Product_Category_3\"]).count()"
   ]
  },
  {
   "cell_type": "code",
   "execution_count": 92,
   "metadata": {
    "scrolled": false
   },
   "outputs": [],
   "source": [
    "#train.groupby([\"Product_Category_1\",\"Product_Category_2\",\"Product_Category_3\"]).Product_ID.value_counts()"
   ]
  },
  {
   "cell_type": "code",
   "execution_count": 136,
   "metadata": {},
   "outputs": [
    {
     "data": {
      "image/png": "[encoded data removed]",
      "text/plain": [
       "<Figure size 1440x2160 with 18 Axes>"
      ]
     },
     "metadata": {
      "needs_background": "light"
     },
     "output_type": "display_data"
    }
   ],
   "source": [
    "categorical_feat=list(train.columns)\n",
    "categorical_feat.remove(\"User_ID\")\n",
    "categorical_feat.remove(\"Product_ID\")\n",
    "categorical_feat.remove(\"Purchase\")\n",
    "\n",
    "rows = 9\n",
    "cols = 2\n",
    "\n",
    "fig, axs = plt.subplots(rows, cols, figsize=(20,30))\n",
    "\n",
    "for r in range(0,rows):\n",
    "            sns.boxplot(x=categorical_feat[r], y=\"Purchase\", data=train,ax = axs[r][0])\n",
    "            sns.countplot(x=categorical_feat[r], data=train,ax = axs[r][1])\n",
    "plt.tight_layout()    \n",
    "plt.show()"
   ]
  },
  {
   "cell_type": "markdown",
   "metadata": {},
   "source": [
    "### Observations & forward plan\n",
    "\n",
    "1)we can see that there is a huge gap in gender where \"Male\" is spending more.Let's check what are their martial status.\n",
    "2)It is seen that agegroup 25-25 spend more,these are probably married group,we need to explore it more.\n",
    "3)We can also see that \"city_category B\" spends more ,we need to check thier job background,and if it is newly created city category. "
   ]
  },
  {
   "cell_type": "code",
   "execution_count": 475,
   "metadata": {},
   "outputs": [
    {
     "data": {
      "text/plain": [
       "Text(0.5, 1.0, 'Gender Vs Marital_Status')"
      ]
     },
     "execution_count": 475,
     "metadata": {},
     "output_type": "execute_result"
    },
    {
     "data": {
      "image/png": "[encoded data removed]",
      "text/plain": [
       "<Figure size 432x288 with 1 Axes>"
      ]
     },
     "metadata": {
      "needs_background": "light"
     },
     "output_type": "display_data"
    }
   ],
   "source": [
    "sns.countplot(x=\"Gender\",hue=\"Marital_Status\",data=train)\n",
    "plt.title(\"Gender Vs Marital_Status\")"
   ]
  },
  {
   "cell_type": "code",
   "execution_count": 476,
   "metadata": {},
   "outputs": [
    {
     "data": {
      "text/plain": [
       "Text(0.5, 1.0, 'Gender Vs Age')"
      ]
     },
     "execution_count": 476,
     "metadata": {},
     "output_type": "execute_result"
    },
    {
     "data": {
      "image/png": "[encoded data removed]",
      "text/plain": [
       "<Figure size 432x288 with 1 Axes>"
      ]
     },
     "metadata": {
      "needs_background": "light"
     },
     "output_type": "display_data"
    }
   ],
   "source": [
    "sns.countplot(x=\"Age\",hue=\"Gender\",data=train)\n",
    "plt.title(\"Gender Vs Age\")"
   ]
  },
  {
   "cell_type": "code",
   "execution_count": 479,
   "metadata": {},
   "outputs": [
    {
     "data": {
      "text/plain": [
       "Text(0.5, 1.0, 'Age Vs Marital_Status')"
      ]
     },
     "execution_count": 479,
     "metadata": {},
     "output_type": "execute_result"
    },
    {
     "data": {
      "image/png": "[encoded data removed]",
      "text/plain": [
       "<Figure size 432x288 with 1 Axes>"
      ]
     },
     "metadata": {
      "needs_background": "light"
     },
     "output_type": "display_data"
    }
   ],
   "source": [
    "sns.countplot(x=\"Age\",hue=\"Marital_Status\",data=train)\n",
    "plt.title(\"Age Vs Marital_Status\")"
   ]
  },
  {
   "cell_type": "markdown",
   "metadata": {},
   "source": [
    "Now lets explore more on city_category,yearsofstay and job background."
   ]
  },
  {
   "cell_type": "code",
   "execution_count": 115,
   "metadata": {},
   "outputs": [
    {
     "data": {
      "text/plain": [
       "<matplotlib.axes._subplots.AxesSubplot at 0x1e435095588>"
      ]
     },
     "execution_count": 115,
     "metadata": {},
     "output_type": "execute_result"
    },
    {
     "data": {
      "image/png": "[encoded data removed]",
      "text/plain": [
       "<Figure size 432x288 with 1 Axes>"
      ]
     },
     "metadata": {
      "needs_background": "light"
     },
     "output_type": "display_data"
    }
   ],
   "source": [
    "sns.countplot(x=\"Stay_In_Current_City_Years\",hue=\"City_Category\",data=train)"
   ]
  },
  {
   "cell_type": "code",
   "execution_count": 116,
   "metadata": {},
   "outputs": [
    {
     "data": {
      "text/plain": [
       "<matplotlib.axes._subplots.AxesSubplot at 0x1e435229518>"
      ]
     },
     "execution_count": 116,
     "metadata": {},
     "output_type": "execute_result"
    },
    {
     "data": {
      "image/png": "[encoded data removed]",
      "text/plain": [
       "<Figure size 432x288 with 1 Axes>"
      ]
     },
     "metadata": {
      "needs_background": "light"
     },
     "output_type": "display_data"
    }
   ],
   "source": [
    "sns.countplot(x=\"Occupation\",hue=\"City_Category\",data=train)"
   ]
  },
  {
   "cell_type": "code",
   "execution_count": 118,
   "metadata": {},
   "outputs": [
    {
     "data": {
      "text/plain": [
       "<matplotlib.axes._subplots.AxesSubplot at 0x1e435c99fd0>"
      ]
     },
     "execution_count": 118,
     "metadata": {},
     "output_type": "execute_result"
    },
    {
     "data": {
      "image/png": "[encoded data removed]",
      "text/plain": [
       "<Figure size 1008x864 with 1 Axes>"
      ]
     },
     "metadata": {
      "needs_background": "light"
     },
     "output_type": "display_data"
    }
   ],
   "source": [
    "plt.figure(figsize=(14,12))\n",
    "sns.countplot(x=\"Occupation\",hue=\"Stay_In_Current_City_Years\",data=train)"
   ]
  },
  {
   "cell_type": "markdown",
   "metadata": {},
   "source": [
    "# Conclusion:\n",
    "1)Most of the people from city_category B tend to buy more,especially who recently moved(1yr).\n",
    "2)It is seem that city_category B seems to a newly created city area specially attracted by certain job group such as 0,4,7 job groups."
   ]
  },
  {
   "cell_type": "code",
   "execution_count": 431,
   "metadata": {},
   "outputs": [
    {
     "data": {
      "text/html": [
       "<div>\n",
       "<style scoped>\n",
       "    .dataframe tbody tr th:only-of-type {\n",
       "        vertical-align: middle;\n",
       "    }\n",
       "\n",
       "    .dataframe tbody tr th {\n",
       "        vertical-align: top;\n",
       "    }\n",
       "\n",
       "    .dataframe thead th {\n",
       "        text-align: right;\n",
       "    }\n",
       "</style>\n",
       "<table border=\"1\" class=\"dataframe\">\n",
       "  <thead>\n",
       "    <tr style=\"text-align: right;\">\n",
       "      <th></th>\n",
       "      <th>User_ID</th>\n",
       "      <th>Product_ID</th>\n",
       "      <th>Gender</th>\n",
       "      <th>Age</th>\n",
       "      <th>Occupation</th>\n",
       "      <th>City_Category</th>\n",
       "      <th>Stay_In_Current_City_Years</th>\n",
       "      <th>Marital_Status</th>\n",
       "      <th>Product_Category_1</th>\n",
       "      <th>Product_Category_2</th>\n",
       "      <th>Product_Category_3</th>\n",
       "      <th>Purchase</th>\n",
       "    </tr>\n",
       "  </thead>\n",
       "  <tbody>\n",
       "    <tr>\n",
       "      <th>0</th>\n",
       "      <td>1000001</td>\n",
       "      <td>P00069042</td>\n",
       "      <td>F</td>\n",
       "      <td>0-17</td>\n",
       "      <td>10</td>\n",
       "      <td>A</td>\n",
       "      <td>2</td>\n",
       "      <td>0</td>\n",
       "      <td>3</td>\n",
       "      <td>0.0</td>\n",
       "      <td>0.0</td>\n",
       "      <td>8370</td>\n",
       "    </tr>\n",
       "    <tr>\n",
       "      <th>1</th>\n",
       "      <td>1000001</td>\n",
       "      <td>P00248942</td>\n",
       "      <td>F</td>\n",
       "      <td>0-17</td>\n",
       "      <td>10</td>\n",
       "      <td>A</td>\n",
       "      <td>2</td>\n",
       "      <td>0</td>\n",
       "      <td>1</td>\n",
       "      <td>6.0</td>\n",
       "      <td>14.0</td>\n",
       "      <td>15200</td>\n",
       "    </tr>\n",
       "    <tr>\n",
       "      <th>2</th>\n",
       "      <td>1000001</td>\n",
       "      <td>P00087842</td>\n",
       "      <td>F</td>\n",
       "      <td>0-17</td>\n",
       "      <td>10</td>\n",
       "      <td>A</td>\n",
       "      <td>2</td>\n",
       "      <td>0</td>\n",
       "      <td>12</td>\n",
       "      <td>0.0</td>\n",
       "      <td>0.0</td>\n",
       "      <td>1422</td>\n",
       "    </tr>\n",
       "    <tr>\n",
       "      <th>3</th>\n",
       "      <td>1000001</td>\n",
       "      <td>P00085442</td>\n",
       "      <td>F</td>\n",
       "      <td>0-17</td>\n",
       "      <td>10</td>\n",
       "      <td>A</td>\n",
       "      <td>2</td>\n",
       "      <td>0</td>\n",
       "      <td>12</td>\n",
       "      <td>14.0</td>\n",
       "      <td>0.0</td>\n",
       "      <td>1057</td>\n",
       "    </tr>\n",
       "    <tr>\n",
       "      <th>4</th>\n",
       "      <td>1000002</td>\n",
       "      <td>P00285442</td>\n",
       "      <td>M</td>\n",
       "      <td>55+</td>\n",
       "      <td>16</td>\n",
       "      <td>C</td>\n",
       "      <td>4+</td>\n",
       "      <td>0</td>\n",
       "      <td>8</td>\n",
       "      <td>0.0</td>\n",
       "      <td>0.0</td>\n",
       "      <td>7969</td>\n",
       "    </tr>\n",
       "  </tbody>\n",
       "</table>\n",
       "</div>"
      ],
      "text/plain": [
       "   User_ID Product_ID Gender   Age  Occupation City_Category  \\\n",
       "0  1000001  P00069042      F  0-17          10             A   \n",
       "1  1000001  P00248942      F  0-17          10             A   \n",
       "2  1000001  P00087842      F  0-17          10             A   \n",
       "3  1000001  P00085442      F  0-17          10             A   \n",
       "4  1000002  P00285442      M   55+          16             C   \n",
       "\n",
       "  Stay_In_Current_City_Years  Marital_Status  Product_Category_1  \\\n",
       "0                          2               0                   3   \n",
       "1                          2               0                   1   \n",
       "2                          2               0                  12   \n",
       "3                          2               0                  12   \n",
       "4                         4+               0                   8   \n",
       "\n",
       "   Product_Category_2  Product_Category_3  Purchase  \n",
       "0                 0.0                 0.0      8370  \n",
       "1                 6.0                14.0     15200  \n",
       "2                 0.0                 0.0      1422  \n",
       "3                14.0                 0.0      1057  \n",
       "4                 0.0                 0.0      7969  "
      ]
     },
     "execution_count": 431,
     "metadata": {},
     "output_type": "execute_result"
    }
   ],
   "source": [
    "train_df=train.copy()\n",
    "train_df.head()"
   ]
  },
  {
   "cell_type": "markdown",
   "metadata": {},
   "source": [
    "# Feature Engineering"
   ]
  },
  {
   "cell_type": "code",
   "execution_count": 395,
   "metadata": {},
   "outputs": [],
   "source": [
    "# function to count the occurances of each category in a feature.\n",
    "\n",
    "def getCount(df, count, var_name):\n",
    "    grouped_df = count_df.groupby(var_name)\n",
    "    count_dict = {}\n",
    "    for name, group in grouped_df:\n",
    "        count_dict[name] = group.shape[0]\n",
    "    count_list = []\n",
    "    for index, row in compute_df.iterrows():\n",
    "        name = row[var_name]\n",
    "        count_list.append(count_dict.get(name, 0))\n",
    "    return count_list"
   ]
  },
  {
   "cell_type": "code",
   "execution_count": 396,
   "metadata": {},
   "outputs": [],
   "source": [
    "def getmean(df,feat_list,col_name):\n",
    "    group=df.groupby(feat_list)\n",
    "    mean_encode=pd.DataFrame({col_name: group[\"Purchase\"].mean()})\n",
    "    df = pd.merge(df, mean_encode, on=feat_list, how='left')\n",
    "    return df"
   ]
  },
  {
   "cell_type": "code",
   "execution_count": 432,
   "metadata": {},
   "outputs": [],
   "source": [
    "train_df=getmean(train_df,[\"Occupation\"],\"Occupation_mean\")\n",
    "#train_df[\"Occupation_mean\"] =getCountVar(train_df, train_df, \"Occupation\")\n",
    "train_df[\"Product_ID_Count\"] =getCountVar(train_df, train_df, \"Product_ID\")"
   ]
  },
  {
   "cell_type": "code",
   "execution_count": 433,
   "metadata": {},
   "outputs": [],
   "source": [
    "train_df.drop(\"User_ID\",axis=1,inplace=True)\n",
    "train_df.drop(\"Product_ID\",axis=1,inplace=True)"
   ]
  },
  {
   "cell_type": "code",
   "execution_count": 434,
   "metadata": {
    "scrolled": true
   },
   "outputs": [
    {
     "data": {
      "text/html": [
       "<div>\n",
       "<style scoped>\n",
       "    .dataframe tbody tr th:only-of-type {\n",
       "        vertical-align: middle;\n",
       "    }\n",
       "\n",
       "    .dataframe tbody tr th {\n",
       "        vertical-align: top;\n",
       "    }\n",
       "\n",
       "    .dataframe thead th {\n",
       "        text-align: right;\n",
       "    }\n",
       "</style>\n",
       "<table border=\"1\" class=\"dataframe\">\n",
       "  <thead>\n",
       "    <tr style=\"text-align: right;\">\n",
       "      <th></th>\n",
       "      <th>Occupation</th>\n",
       "      <th>City_Category</th>\n",
       "      <th>Marital_Status</th>\n",
       "      <th>Product_Category_1</th>\n",
       "      <th>Product_Category_2</th>\n",
       "      <th>Product_Category_3</th>\n",
       "      <th>Purchase</th>\n",
       "      <th>Occupation_mean</th>\n",
       "      <th>Product_ID_Count</th>\n",
       "      <th>Age_0-17</th>\n",
       "      <th>...</th>\n",
       "      <th>Age_46-50</th>\n",
       "      <th>Age_51-55</th>\n",
       "      <th>Age_55+</th>\n",
       "      <th>Gender_F</th>\n",
       "      <th>Gender_M</th>\n",
       "      <th>Stay_In_Current_City_Years_0</th>\n",
       "      <th>Stay_In_Current_City_Years_1</th>\n",
       "      <th>Stay_In_Current_City_Years_2</th>\n",
       "      <th>Stay_In_Current_City_Years_3</th>\n",
       "      <th>Stay_In_Current_City_Years_4+</th>\n",
       "    </tr>\n",
       "  </thead>\n",
       "  <tbody>\n",
       "    <tr>\n",
       "      <th>0</th>\n",
       "      <td>10</td>\n",
       "      <td>A</td>\n",
       "      <td>0</td>\n",
       "      <td>3</td>\n",
       "      <td>0.0</td>\n",
       "      <td>0.0</td>\n",
       "      <td>8370</td>\n",
       "      <td>8959.355375</td>\n",
       "      <td>227</td>\n",
       "      <td>1</td>\n",
       "      <td>...</td>\n",
       "      <td>0</td>\n",
       "      <td>0</td>\n",
       "      <td>0</td>\n",
       "      <td>1</td>\n",
       "      <td>0</td>\n",
       "      <td>0</td>\n",
       "      <td>0</td>\n",
       "      <td>1</td>\n",
       "      <td>0</td>\n",
       "      <td>0</td>\n",
       "    </tr>\n",
       "    <tr>\n",
       "      <th>1</th>\n",
       "      <td>10</td>\n",
       "      <td>A</td>\n",
       "      <td>0</td>\n",
       "      <td>1</td>\n",
       "      <td>6.0</td>\n",
       "      <td>14.0</td>\n",
       "      <td>15200</td>\n",
       "      <td>8959.355375</td>\n",
       "      <td>581</td>\n",
       "      <td>1</td>\n",
       "      <td>...</td>\n",
       "      <td>0</td>\n",
       "      <td>0</td>\n",
       "      <td>0</td>\n",
       "      <td>1</td>\n",
       "      <td>0</td>\n",
       "      <td>0</td>\n",
       "      <td>0</td>\n",
       "      <td>1</td>\n",
       "      <td>0</td>\n",
       "      <td>0</td>\n",
       "    </tr>\n",
       "    <tr>\n",
       "      <th>2</th>\n",
       "      <td>10</td>\n",
       "      <td>A</td>\n",
       "      <td>0</td>\n",
       "      <td>12</td>\n",
       "      <td>0.0</td>\n",
       "      <td>0.0</td>\n",
       "      <td>1422</td>\n",
       "      <td>8959.355375</td>\n",
       "      <td>102</td>\n",
       "      <td>1</td>\n",
       "      <td>...</td>\n",
       "      <td>0</td>\n",
       "      <td>0</td>\n",
       "      <td>0</td>\n",
       "      <td>1</td>\n",
       "      <td>0</td>\n",
       "      <td>0</td>\n",
       "      <td>0</td>\n",
       "      <td>1</td>\n",
       "      <td>0</td>\n",
       "      <td>0</td>\n",
       "    </tr>\n",
       "    <tr>\n",
       "      <th>3</th>\n",
       "      <td>10</td>\n",
       "      <td>A</td>\n",
       "      <td>0</td>\n",
       "      <td>12</td>\n",
       "      <td>14.0</td>\n",
       "      <td>0.0</td>\n",
       "      <td>1057</td>\n",
       "      <td>8959.355375</td>\n",
       "      <td>341</td>\n",
       "      <td>1</td>\n",
       "      <td>...</td>\n",
       "      <td>0</td>\n",
       "      <td>0</td>\n",
       "      <td>0</td>\n",
       "      <td>1</td>\n",
       "      <td>0</td>\n",
       "      <td>0</td>\n",
       "      <td>0</td>\n",
       "      <td>1</td>\n",
       "      <td>0</td>\n",
       "      <td>0</td>\n",
       "    </tr>\n",
       "    <tr>\n",
       "      <th>4</th>\n",
       "      <td>16</td>\n",
       "      <td>C</td>\n",
       "      <td>0</td>\n",
       "      <td>8</td>\n",
       "      <td>0.0</td>\n",
       "      <td>0.0</td>\n",
       "      <td>7969</td>\n",
       "      <td>9394.464349</td>\n",
       "      <td>203</td>\n",
       "      <td>0</td>\n",
       "      <td>...</td>\n",
       "      <td>0</td>\n",
       "      <td>0</td>\n",
       "      <td>1</td>\n",
       "      <td>0</td>\n",
       "      <td>1</td>\n",
       "      <td>0</td>\n",
       "      <td>0</td>\n",
       "      <td>0</td>\n",
       "      <td>0</td>\n",
       "      <td>1</td>\n",
       "    </tr>\n",
       "  </tbody>\n",
       "</table>\n",
       "<p>5 rows × 23 columns</p>\n",
       "</div>"
      ],
      "text/plain": [
       "   Occupation City_Category  Marital_Status  Product_Category_1  \\\n",
       "0          10             A               0                   3   \n",
       "1          10             A               0                   1   \n",
       "2          10             A               0                  12   \n",
       "3          10             A               0                  12   \n",
       "4          16             C               0                   8   \n",
       "\n",
       "   Product_Category_2  Product_Category_3  Purchase  Occupation_mean  \\\n",
       "0                 0.0                 0.0      8370      8959.355375   \n",
       "1                 6.0                14.0     15200      8959.355375   \n",
       "2                 0.0                 0.0      1422      8959.355375   \n",
       "3                14.0                 0.0      1057      8959.355375   \n",
       "4                 0.0                 0.0      7969      9394.464349   \n",
       "\n",
       "   Product_ID_Count  Age_0-17  ...  Age_46-50  Age_51-55  Age_55+  Gender_F  \\\n",
       "0               227         1  ...          0          0        0         1   \n",
       "1               581         1  ...          0          0        0         1   \n",
       "2               102         1  ...          0          0        0         1   \n",
       "3               341         1  ...          0          0        0         1   \n",
       "4               203         0  ...          0          0        1         0   \n",
       "\n",
       "   Gender_M  Stay_In_Current_City_Years_0  Stay_In_Current_City_Years_1  \\\n",
       "0         0                             0                             0   \n",
       "1         0                             0                             0   \n",
       "2         0                             0                             0   \n",
       "3         0                             0                             0   \n",
       "4         1                             0                             0   \n",
       "\n",
       "   Stay_In_Current_City_Years_2  Stay_In_Current_City_Years_3  \\\n",
       "0                             1                             0   \n",
       "1                             1                             0   \n",
       "2                             1                             0   \n",
       "3                             1                             0   \n",
       "4                             0                             0   \n",
       "\n",
       "   Stay_In_Current_City_Years_4+  \n",
       "0                              0  \n",
       "1                              0  \n",
       "2                              0  \n",
       "3                              0  \n",
       "4                              1  \n",
       "\n",
       "[5 rows x 23 columns]"
      ]
     },
     "execution_count": 434,
     "metadata": {},
     "output_type": "execute_result"
    }
   ],
   "source": [
    "train_df=pd.get_dummies(train_df,columns=[\"Age\",\"Gender\",\"Stay_In_Current_City_Years\"])\n",
    "train_df.head()"
   ]
  },
  {
   "cell_type": "code",
   "execution_count": 435,
   "metadata": {},
   "outputs": [],
   "source": [
    "df_copy=train_df.copy()"
   ]
  },
  {
   "cell_type": "code",
   "execution_count": 468,
   "metadata": {},
   "outputs": [],
   "source": [
    "train_df=df_copy"
   ]
  },
  {
   "cell_type": "code",
   "execution_count": 436,
   "metadata": {},
   "outputs": [
    {
     "data": {
      "text/plain": [
       "<matplotlib.axes._subplots.AxesSubplot at 0x1e4874e6eb8>"
      ]
     },
     "execution_count": 436,
     "metadata": {},
     "output_type": "execute_result"
    },
    {
     "data": {
      "image/png": "[encoded data removed]",
      "text/plain": [
       "<Figure size 432x288 with 2 Axes>"
      ]
     },
     "metadata": {
      "needs_background": "light"
     },
     "output_type": "display_data"
    }
   ],
   "source": [
    "sns.heatmap(train_df.corr())"
   ]
  },
  {
   "cell_type": "code",
   "execution_count": 414,
   "metadata": {},
   "outputs": [],
   "source": [
    "from sklearn.model_selection import train_test_split\n",
    "from sklearn.linear_model import LinearRegression\n",
    "from sklearn.ensemble import RandomForestRegressor\n",
    "from sklearn.metrics import mean_squared_error\n",
    "from sklearn.model_selection import cross_val_score\n",
    "import numpy as np"
   ]
  },
  {
   "cell_type": "markdown",
   "metadata": {},
   "source": [
    "# Model for city A"
   ]
  },
  {
   "cell_type": "code",
   "execution_count": 463,
   "metadata": {},
   "outputs": [],
   "source": [
    "train_A=train_df[train_df.City_Category==\"A\"]"
   ]
  },
  {
   "cell_type": "code",
   "execution_count": 464,
   "metadata": {},
   "outputs": [
    {
     "data": {
      "text/plain": [
       "(147720, 23)"
      ]
     },
     "execution_count": 464,
     "metadata": {},
     "output_type": "execute_result"
    }
   ],
   "source": [
    "train_A.shape"
   ]
  },
  {
   "cell_type": "code",
   "execution_count": 465,
   "metadata": {},
   "outputs": [],
   "source": [
    "target_A=train_A.pop(\"Purchase\")\n",
    "train_A.pop(\"City_Category\")\n",
    "xtrain,xtest,ytrain,ytest=train_test_split(train_A,target_A,test_size=0.2,random_state=40)"
   ]
  },
  {
   "cell_type": "code",
   "execution_count": 466,
   "metadata": {},
   "outputs": [
    {
     "name": "stderr",
     "output_type": "stream",
     "text": [
      "C:\\ProgramData\\Anaconda3\\lib\\site-packages\\sklearn\\ensemble\\forest.py:246: FutureWarning: The default value of n_estimators will change from 10 in version 0.20 to 100 in 0.22.\n",
      "  \"10 in version 0.20 to 100 in 0.22.\", FutureWarning)\n"
     ]
    },
    {
     "name": "stdout",
     "output_type": "stream",
     "text": [
      "1405.5487713690354\n",
      "\n",
      " [0.64065152 0.64576373 0.64183502 0.64064822 0.64042848] \n",
      "\n",
      "\n",
      "  5-Fold Cross Validation on  0.8011650240336184\n"
     ]
    }
   ],
   "source": [
    "lr=RandomForestRegressor()\n",
    "lr.fit(xtrain,ytrain)\n",
    "pre=lr.predict(xtrain)\n",
    "print(np.sqrt(mean_squared_error(ytrain,pre)))\n",
    "cv_score = cross_val_score(lr, xtrain,ytrain , cv=5)\n",
    "print(\"\\n\",cv_score,\"\\n\")\n",
    "print(\"\\n  5-Fold Cross Validation on \", (np.sqrt(np.mean(cv_score))))"
   ]
  },
  {
   "cell_type": "code",
   "execution_count": 467,
   "metadata": {},
   "outputs": [
    {
     "data": {
      "text/html": [
       "<div>\n",
       "<style scoped>\n",
       "    .dataframe tbody tr th:only-of-type {\n",
       "        vertical-align: middle;\n",
       "    }\n",
       "\n",
       "    .dataframe tbody tr th {\n",
       "        vertical-align: top;\n",
       "    }\n",
       "\n",
       "    .dataframe thead th {\n",
       "        text-align: right;\n",
       "    }\n",
       "</style>\n",
       "<table border=\"1\" class=\"dataframe\">\n",
       "  <thead>\n",
       "    <tr style=\"text-align: right;\">\n",
       "      <th></th>\n",
       "      <th>y</th>\n",
       "      <th>pre</th>\n",
       "    </tr>\n",
       "  </thead>\n",
       "  <tbody>\n",
       "    <tr>\n",
       "      <th>185918</th>\n",
       "      <td>6118</td>\n",
       "      <td>5338.50</td>\n",
       "    </tr>\n",
       "    <tr>\n",
       "      <th>180124</th>\n",
       "      <td>3612</td>\n",
       "      <td>4632.25</td>\n",
       "    </tr>\n",
       "    <tr>\n",
       "      <th>185302</th>\n",
       "      <td>9522</td>\n",
       "      <td>10273.20</td>\n",
       "    </tr>\n",
       "    <tr>\n",
       "      <th>541111</th>\n",
       "      <td>11757</td>\n",
       "      <td>13727.40</td>\n",
       "    </tr>\n",
       "    <tr>\n",
       "      <th>182193</th>\n",
       "      <td>15492</td>\n",
       "      <td>14719.48</td>\n",
       "    </tr>\n",
       "  </tbody>\n",
       "</table>\n",
       "</div>"
      ],
      "text/plain": [
       "            y       pre\n",
       "185918   6118   5338.50\n",
       "180124   3612   4632.25\n",
       "185302   9522  10273.20\n",
       "541111  11757  13727.40\n",
       "182193  15492  14719.48"
      ]
     },
     "execution_count": 467,
     "metadata": {},
     "output_type": "execute_result"
    }
   ],
   "source": [
    "result_a=pd.DataFrame()\n",
    "result_a[\"y\"]=ytrain\n",
    "result_a[\"pre\"]=pre\n",
    "result_a.head()"
   ]
  },
  {
   "cell_type": "code",
   "execution_count": 421,
   "metadata": {},
   "outputs": [
    {
     "name": "stdout",
     "output_type": "stream",
     "text": [
      "Occupation                       0.040417\n",
      "Marital_Status                   0.018623\n",
      "Product_Category_1               0.619685\n",
      "Product_Category_2               0.022175\n",
      "Product_Category_3               0.015274\n",
      "Occupation_mean                  0.042706\n",
      "Product_ID_Count                 0.124571\n",
      "Age_0-17                         0.001843\n",
      "Age_18-25                        0.009961\n",
      "Age_26-35                        0.011765\n",
      "Age_36-45                        0.009555\n",
      "Age_46-50                        0.004734\n",
      "Age_51-55                        0.004376\n",
      "Age_55+                          0.003517\n",
      "Gender_F                         0.007588\n",
      "Gender_M                         0.007510\n",
      "Stay_In_Current_City_Years_0     0.010179\n",
      "Stay_In_Current_City_Years_1     0.013298\n",
      "Stay_In_Current_City_Years_2     0.011185\n",
      "Stay_In_Current_City_Years_3     0.010998\n",
      "Stay_In_Current_City_Years_4+    0.010038\n",
      "dtype: float64\n"
     ]
    },
    {
     "data": {
      "text/plain": [
       "<matplotlib.axes._subplots.AxesSubplot at 0x1e46d98a940>"
      ]
     },
     "execution_count": 421,
     "metadata": {},
     "output_type": "execute_result"
    },
    {
     "data": {
      "image/png": "[encoded data removed]",
      "text/plain": [
       "<Figure size 1080x504 with 1 Axes>"
      ]
     },
     "metadata": {
      "needs_background": "light"
     },
     "output_type": "display_data"
    }
   ],
   "source": [
    "feature_importances = pd.Series(lr.feature_importances_, index=xtrain.columns)\n",
    "print(feature_importances)\n",
    "feature_importances.sort_values(inplace=True)\n",
    "feature_importances.plot(kind='barh', figsize=(15,7))"
   ]
  },
  {
   "cell_type": "markdown",
   "metadata": {},
   "source": [
    "# Model for city B"
   ]
  },
  {
   "cell_type": "code",
   "execution_count": 469,
   "metadata": {},
   "outputs": [],
   "source": [
    "train_df=df_copy\n",
    "train_B=train_df[train_df.City_Category==\"B\"]\n",
    "target_B=train_B.pop(\"Purchase\")\n",
    "train_B.pop(\"City_Category\")\n",
    "xtrain,xtest,ytrain,ytest=train_test_split(train_B,target_B,test_size=0.2,random_state=40)"
   ]
  },
  {
   "cell_type": "code",
   "execution_count": 470,
   "metadata": {},
   "outputs": [
    {
     "name": "stderr",
     "output_type": "stream",
     "text": [
      "C:\\ProgramData\\Anaconda3\\lib\\site-packages\\sklearn\\ensemble\\forest.py:246: FutureWarning: The default value of n_estimators will change from 10 in version 0.20 to 100 in 0.22.\n",
      "  \"10 in version 0.20 to 100 in 0.22.\", FutureWarning)\n"
     ]
    },
    {
     "name": "stdout",
     "output_type": "stream",
     "text": [
      "1447.2258716070598\n",
      "\n",
      " [0.65095862 0.65172901 0.65499015 0.65230046 0.65245931] \n",
      "\n",
      "\n",
      "  5-Fold Cross Validation on  0.8077669902234846\n"
     ]
    }
   ],
   "source": [
    "lr=RandomForestRegressor()\n",
    "lr.fit(xtrain,ytrain)\n",
    "pre=lr.predict(xtrain)\n",
    "print(np.sqrt(mean_squared_error(ytrain,pre)))\n",
    "cv_score = cross_val_score(lr, xtrain,ytrain , cv=5)\n",
    "print(\"\\n\",cv_score,\"\\n\")\n",
    "print(\"\\n  5-Fold Cross Validation on \", (np.sqrt(np.mean(cv_score))))"
   ]
  },
  {
   "cell_type": "code",
   "execution_count": 471,
   "metadata": {},
   "outputs": [
    {
     "data": {
      "text/html": [
       "<div>\n",
       "<style scoped>\n",
       "    .dataframe tbody tr th:only-of-type {\n",
       "        vertical-align: middle;\n",
       "    }\n",
       "\n",
       "    .dataframe tbody tr th {\n",
       "        vertical-align: top;\n",
       "    }\n",
       "\n",
       "    .dataframe thead th {\n",
       "        text-align: right;\n",
       "    }\n",
       "</style>\n",
       "<table border=\"1\" class=\"dataframe\">\n",
       "  <thead>\n",
       "    <tr style=\"text-align: right;\">\n",
       "      <th></th>\n",
       "      <th>y</th>\n",
       "      <th>pre</th>\n",
       "    </tr>\n",
       "  </thead>\n",
       "  <tbody>\n",
       "    <tr>\n",
       "      <th>368670</th>\n",
       "      <td>7581</td>\n",
       "      <td>8615.300000</td>\n",
       "    </tr>\n",
       "    <tr>\n",
       "      <th>409834</th>\n",
       "      <td>5446</td>\n",
       "      <td>6618.100000</td>\n",
       "    </tr>\n",
       "    <tr>\n",
       "      <th>312896</th>\n",
       "      <td>15655</td>\n",
       "      <td>14954.850000</td>\n",
       "    </tr>\n",
       "    <tr>\n",
       "      <th>50541</th>\n",
       "      <td>7144</td>\n",
       "      <td>7090.266667</td>\n",
       "    </tr>\n",
       "    <tr>\n",
       "      <th>371784</th>\n",
       "      <td>7108</td>\n",
       "      <td>6796.533333</td>\n",
       "    </tr>\n",
       "    <tr>\n",
       "      <th>108418</th>\n",
       "      <td>7085</td>\n",
       "      <td>6397.100000</td>\n",
       "    </tr>\n",
       "    <tr>\n",
       "      <th>543913</th>\n",
       "      <td>9836</td>\n",
       "      <td>8496.933333</td>\n",
       "    </tr>\n",
       "    <tr>\n",
       "      <th>114918</th>\n",
       "      <td>15344</td>\n",
       "      <td>14237.500000</td>\n",
       "    </tr>\n",
       "    <tr>\n",
       "      <th>428266</th>\n",
       "      <td>19041</td>\n",
       "      <td>16445.000000</td>\n",
       "    </tr>\n",
       "    <tr>\n",
       "      <th>130529</th>\n",
       "      <td>7786</td>\n",
       "      <td>7637.350000</td>\n",
       "    </tr>\n",
       "    <tr>\n",
       "      <th>114750</th>\n",
       "      <td>6930</td>\n",
       "      <td>6094.650000</td>\n",
       "    </tr>\n",
       "    <tr>\n",
       "      <th>530218</th>\n",
       "      <td>19502</td>\n",
       "      <td>19525.200000</td>\n",
       "    </tr>\n",
       "    <tr>\n",
       "      <th>93067</th>\n",
       "      <td>7858</td>\n",
       "      <td>8063.300000</td>\n",
       "    </tr>\n",
       "    <tr>\n",
       "      <th>461263</th>\n",
       "      <td>5234</td>\n",
       "      <td>5860.200000</td>\n",
       "    </tr>\n",
       "    <tr>\n",
       "      <th>497861</th>\n",
       "      <td>7097</td>\n",
       "      <td>6233.800000</td>\n",
       "    </tr>\n",
       "    <tr>\n",
       "      <th>117608</th>\n",
       "      <td>3689</td>\n",
       "      <td>4708.500000</td>\n",
       "    </tr>\n",
       "    <tr>\n",
       "      <th>89643</th>\n",
       "      <td>7945</td>\n",
       "      <td>5118.216667</td>\n",
       "    </tr>\n",
       "    <tr>\n",
       "      <th>88627</th>\n",
       "      <td>7952</td>\n",
       "      <td>10051.225000</td>\n",
       "    </tr>\n",
       "    <tr>\n",
       "      <th>277223</th>\n",
       "      <td>12153</td>\n",
       "      <td>14266.900000</td>\n",
       "    </tr>\n",
       "    <tr>\n",
       "      <th>65632</th>\n",
       "      <td>11667</td>\n",
       "      <td>12028.300000</td>\n",
       "    </tr>\n",
       "    <tr>\n",
       "      <th>393898</th>\n",
       "      <td>4344</td>\n",
       "      <td>5073.366667</td>\n",
       "    </tr>\n",
       "    <tr>\n",
       "      <th>254123</th>\n",
       "      <td>8074</td>\n",
       "      <td>8584.700000</td>\n",
       "    </tr>\n",
       "    <tr>\n",
       "      <th>344325</th>\n",
       "      <td>1777</td>\n",
       "      <td>1648.800000</td>\n",
       "    </tr>\n",
       "    <tr>\n",
       "      <th>495171</th>\n",
       "      <td>19569</td>\n",
       "      <td>17569.600000</td>\n",
       "    </tr>\n",
       "    <tr>\n",
       "      <th>204938</th>\n",
       "      <td>15440</td>\n",
       "      <td>15706.533333</td>\n",
       "    </tr>\n",
       "    <tr>\n",
       "      <th>196960</th>\n",
       "      <td>8119</td>\n",
       "      <td>8047.400000</td>\n",
       "    </tr>\n",
       "    <tr>\n",
       "      <th>506126</th>\n",
       "      <td>5972</td>\n",
       "      <td>6251.200000</td>\n",
       "    </tr>\n",
       "    <tr>\n",
       "      <th>322235</th>\n",
       "      <td>4474</td>\n",
       "      <td>6297.000000</td>\n",
       "    </tr>\n",
       "    <tr>\n",
       "      <th>374254</th>\n",
       "      <td>4482</td>\n",
       "      <td>4372.500000</td>\n",
       "    </tr>\n",
       "    <tr>\n",
       "      <th>149907</th>\n",
       "      <td>12652</td>\n",
       "      <td>14231.500000</td>\n",
       "    </tr>\n",
       "    <tr>\n",
       "      <th>...</th>\n",
       "      <td>...</td>\n",
       "      <td>...</td>\n",
       "    </tr>\n",
       "    <tr>\n",
       "      <th>536348</th>\n",
       "      <td>18974</td>\n",
       "      <td>19006.600000</td>\n",
       "    </tr>\n",
       "    <tr>\n",
       "      <th>320484</th>\n",
       "      <td>12190</td>\n",
       "      <td>12341.710714</td>\n",
       "    </tr>\n",
       "    <tr>\n",
       "      <th>273023</th>\n",
       "      <td>19573</td>\n",
       "      <td>19087.900000</td>\n",
       "    </tr>\n",
       "    <tr>\n",
       "      <th>79512</th>\n",
       "      <td>15288</td>\n",
       "      <td>15936.675000</td>\n",
       "    </tr>\n",
       "    <tr>\n",
       "      <th>36724</th>\n",
       "      <td>20637</td>\n",
       "      <td>18094.800000</td>\n",
       "    </tr>\n",
       "    <tr>\n",
       "      <th>274666</th>\n",
       "      <td>6151</td>\n",
       "      <td>6890.750000</td>\n",
       "    </tr>\n",
       "    <tr>\n",
       "      <th>37057</th>\n",
       "      <td>7081</td>\n",
       "      <td>6241.373510</td>\n",
       "    </tr>\n",
       "    <tr>\n",
       "      <th>415336</th>\n",
       "      <td>7919</td>\n",
       "      <td>6982.200000</td>\n",
       "    </tr>\n",
       "    <tr>\n",
       "      <th>480379</th>\n",
       "      <td>4205</td>\n",
       "      <td>6111.200000</td>\n",
       "    </tr>\n",
       "    <tr>\n",
       "      <th>451638</th>\n",
       "      <td>15528</td>\n",
       "      <td>13251.000000</td>\n",
       "    </tr>\n",
       "    <tr>\n",
       "      <th>437813</th>\n",
       "      <td>1725</td>\n",
       "      <td>1640.200000</td>\n",
       "    </tr>\n",
       "    <tr>\n",
       "      <th>66885</th>\n",
       "      <td>20234</td>\n",
       "      <td>18351.700000</td>\n",
       "    </tr>\n",
       "    <tr>\n",
       "      <th>238285</th>\n",
       "      <td>11411</td>\n",
       "      <td>10833.500000</td>\n",
       "    </tr>\n",
       "    <tr>\n",
       "      <th>143501</th>\n",
       "      <td>7108</td>\n",
       "      <td>6968.225000</td>\n",
       "    </tr>\n",
       "    <tr>\n",
       "      <th>428459</th>\n",
       "      <td>7128</td>\n",
       "      <td>6955.800000</td>\n",
       "    </tr>\n",
       "    <tr>\n",
       "      <th>486540</th>\n",
       "      <td>4174</td>\n",
       "      <td>6888.000000</td>\n",
       "    </tr>\n",
       "    <tr>\n",
       "      <th>335548</th>\n",
       "      <td>5394</td>\n",
       "      <td>5604.925000</td>\n",
       "    </tr>\n",
       "    <tr>\n",
       "      <th>329516</th>\n",
       "      <td>16191</td>\n",
       "      <td>16231.100000</td>\n",
       "    </tr>\n",
       "    <tr>\n",
       "      <th>476526</th>\n",
       "      <td>16022</td>\n",
       "      <td>15359.600000</td>\n",
       "    </tr>\n",
       "    <tr>\n",
       "      <th>185845</th>\n",
       "      <td>3718</td>\n",
       "      <td>4166.766667</td>\n",
       "    </tr>\n",
       "    <tr>\n",
       "      <th>325150</th>\n",
       "      <td>5145</td>\n",
       "      <td>5874.600000</td>\n",
       "    </tr>\n",
       "    <tr>\n",
       "      <th>338160</th>\n",
       "      <td>19510</td>\n",
       "      <td>18787.400000</td>\n",
       "    </tr>\n",
       "    <tr>\n",
       "      <th>270788</th>\n",
       "      <td>8812</td>\n",
       "      <td>8142.000000</td>\n",
       "    </tr>\n",
       "    <tr>\n",
       "      <th>129908</th>\n",
       "      <td>8086</td>\n",
       "      <td>7815.900000</td>\n",
       "    </tr>\n",
       "    <tr>\n",
       "      <th>134824</th>\n",
       "      <td>5275</td>\n",
       "      <td>7302.580000</td>\n",
       "    </tr>\n",
       "    <tr>\n",
       "      <th>220745</th>\n",
       "      <td>4104</td>\n",
       "      <td>5632.800000</td>\n",
       "    </tr>\n",
       "    <tr>\n",
       "      <th>500921</th>\n",
       "      <td>10569</td>\n",
       "      <td>12011.843333</td>\n",
       "    </tr>\n",
       "    <tr>\n",
       "      <th>72348</th>\n",
       "      <td>5854</td>\n",
       "      <td>6927.800000</td>\n",
       "    </tr>\n",
       "    <tr>\n",
       "      <th>266970</th>\n",
       "      <td>13631</td>\n",
       "      <td>12189.700000</td>\n",
       "    </tr>\n",
       "    <tr>\n",
       "      <th>338234</th>\n",
       "      <td>7066</td>\n",
       "      <td>6713.500000</td>\n",
       "    </tr>\n",
       "  </tbody>\n",
       "</table>\n",
       "<p>184938 rows × 2 columns</p>\n",
       "</div>"
      ],
      "text/plain": [
       "            y           pre\n",
       "368670   7581   8615.300000\n",
       "409834   5446   6618.100000\n",
       "312896  15655  14954.850000\n",
       "50541    7144   7090.266667\n",
       "371784   7108   6796.533333\n",
       "108418   7085   6397.100000\n",
       "543913   9836   8496.933333\n",
       "114918  15344  14237.500000\n",
       "428266  19041  16445.000000\n",
       "130529   7786   7637.350000\n",
       "114750   6930   6094.650000\n",
       "530218  19502  19525.200000\n",
       "93067    7858   8063.300000\n",
       "461263   5234   5860.200000\n",
       "497861   7097   6233.800000\n",
       "117608   3689   4708.500000\n",
       "89643    7945   5118.216667\n",
       "88627    7952  10051.225000\n",
       "277223  12153  14266.900000\n",
       "65632   11667  12028.300000\n",
       "393898   4344   5073.366667\n",
       "254123   8074   8584.700000\n",
       "344325   1777   1648.800000\n",
       "495171  19569  17569.600000\n",
       "204938  15440  15706.533333\n",
       "196960   8119   8047.400000\n",
       "506126   5972   6251.200000\n",
       "322235   4474   6297.000000\n",
       "374254   4482   4372.500000\n",
       "149907  12652  14231.500000\n",
       "...       ...           ...\n",
       "536348  18974  19006.600000\n",
       "320484  12190  12341.710714\n",
       "273023  19573  19087.900000\n",
       "79512   15288  15936.675000\n",
       "36724   20637  18094.800000\n",
       "274666   6151   6890.750000\n",
       "37057    7081   6241.373510\n",
       "415336   7919   6982.200000\n",
       "480379   4205   6111.200000\n",
       "451638  15528  13251.000000\n",
       "437813   1725   1640.200000\n",
       "66885   20234  18351.700000\n",
       "238285  11411  10833.500000\n",
       "143501   7108   6968.225000\n",
       "428459   7128   6955.800000\n",
       "486540   4174   6888.000000\n",
       "335548   5394   5604.925000\n",
       "329516  16191  16231.100000\n",
       "476526  16022  15359.600000\n",
       "185845   3718   4166.766667\n",
       "325150   5145   5874.600000\n",
       "338160  19510  18787.400000\n",
       "270788   8812   8142.000000\n",
       "129908   8086   7815.900000\n",
       "134824   5275   7302.580000\n",
       "220745   4104   5632.800000\n",
       "500921  10569  12011.843333\n",
       "72348    5854   6927.800000\n",
       "266970  13631  12189.700000\n",
       "338234   7066   6713.500000\n",
       "\n",
       "[184938 rows x 2 columns]"
      ]
     },
     "execution_count": 471,
     "metadata": {},
     "output_type": "execute_result"
    }
   ],
   "source": [
    "result_b=pd.DataFrame()\n",
    "result_b[\"y\"]=ytrain\n",
    "result_b[\"pre\"]=pre\n",
    "result_b"
   ]
  },
  {
   "cell_type": "code",
   "execution_count": 472,
   "metadata": {},
   "outputs": [
    {
     "name": "stdout",
     "output_type": "stream",
     "text": [
      "Occupation                       0.039021\n",
      "Marital_Status                   0.017681\n",
      "Product_Category_1               0.644346\n",
      "Product_Category_2               0.018281\n",
      "Product_Category_3               0.014255\n",
      "Occupation_mean                  0.041717\n",
      "Product_ID_Count                 0.108931\n",
      "Age_0-17                         0.002693\n",
      "Age_18-25                        0.009289\n",
      "Age_26-35                        0.011367\n",
      "Age_36-45                        0.009558\n",
      "Age_46-50                        0.006192\n",
      "Age_51-55                        0.006163\n",
      "Age_55+                          0.002798\n",
      "Gender_F                         0.007456\n",
      "Gender_M                         0.007473\n",
      "Stay_In_Current_City_Years_0     0.008888\n",
      "Stay_In_Current_City_Years_1     0.012309\n",
      "Stay_In_Current_City_Years_2     0.010815\n",
      "Stay_In_Current_City_Years_3     0.010776\n",
      "Stay_In_Current_City_Years_4+    0.009991\n",
      "dtype: float64\n"
     ]
    },
    {
     "data": {
      "text/plain": [
       "<matplotlib.axes._subplots.AxesSubplot at 0x1e4cd48a208>"
      ]
     },
     "execution_count": 472,
     "metadata": {},
     "output_type": "execute_result"
    },
    {
     "data": {
      "image/png": "[encoded data removed]",
      "text/plain": [
       "<Figure size 1080x504 with 1 Axes>"
      ]
     },
     "metadata": {
      "needs_background": "light"
     },
     "output_type": "display_data"
    }
   ],
   "source": [
    "feature_importances = pd.Series(lr.feature_importances_, index=xtrain.columns)\n",
    "print(feature_importances)\n",
    "feature_importances.sort_values(inplace=True)\n",
    "feature_importances.plot(kind='barh', figsize=(15,7))"
   ]
  },
  {
   "cell_type": "markdown",
   "metadata": {},
   "source": [
    "# Model for city C"
   ]
  },
  {
   "cell_type": "code",
   "execution_count": 454,
   "metadata": {},
   "outputs": [],
   "source": [
    "train_df=df_copy\n",
    "train_C=train_df[train_df.City_Category==\"C\"]\n",
    "target_C=train_C.pop(\"Purchase\")\n",
    "train_C.pop(\"City_Category\")\n",
    "xtrain,xtest,ytrain,ytest=train_test_split(train_C,target_C,test_size=0.2,random_state=40)"
   ]
  },
  {
   "cell_type": "code",
   "execution_count": 455,
   "metadata": {},
   "outputs": [
    {
     "name": "stderr",
     "output_type": "stream",
     "text": [
      "C:\\ProgramData\\Anaconda3\\lib\\site-packages\\sklearn\\ensemble\\forest.py:246: FutureWarning: The default value of n_estimators will change from 10 in version 0.20 to 100 in 0.22.\n",
      "  \"10 in version 0.20 to 100 in 0.22.\", FutureWarning)\n"
     ]
    },
    {
     "name": "stdout",
     "output_type": "stream",
     "text": [
      "1475.0987415505742\n",
      "\n",
      " [0.6662972  0.66541623 0.67188875 0.66919865 0.66525541] \n",
      "\n",
      "\n",
      "  5-Fold Cross Validation on  0.8170748118555093\n"
     ]
    }
   ],
   "source": [
    "lr=RandomForestRegressor()\n",
    "lr.fit(xtrain,ytrain)\n",
    "pre=lr.predict(xtrain)\n",
    "print(np.sqrt(mean_squared_error(ytrain,pre)))\n",
    "cv_score = cross_val_score(lr, xtrain,ytrain , cv=5)\n",
    "print(\"\\n\",cv_score,\"\\n\")\n",
    "print(\"\\n  5-Fold Cross Validation on \", (np.sqrt(np.mean(cv_score))))"
   ]
  },
  {
   "cell_type": "code",
   "execution_count": 457,
   "metadata": {},
   "outputs": [
    {
     "data": {
      "text/html": [
       "<div>\n",
       "<style scoped>\n",
       "    .dataframe tbody tr th:only-of-type {\n",
       "        vertical-align: middle;\n",
       "    }\n",
       "\n",
       "    .dataframe tbody tr th {\n",
       "        vertical-align: top;\n",
       "    }\n",
       "\n",
       "    .dataframe thead th {\n",
       "        text-align: right;\n",
       "    }\n",
       "</style>\n",
       "<table border=\"1\" class=\"dataframe\">\n",
       "  <thead>\n",
       "    <tr style=\"text-align: right;\">\n",
       "      <th></th>\n",
       "      <th>y</th>\n",
       "      <th>pre</th>\n",
       "    </tr>\n",
       "  </thead>\n",
       "  <tbody>\n",
       "    <tr>\n",
       "      <th>198427</th>\n",
       "      <td>19053</td>\n",
       "      <td>18399.200000</td>\n",
       "    </tr>\n",
       "    <tr>\n",
       "      <th>445747</th>\n",
       "      <td>1780</td>\n",
       "      <td>2155.500000</td>\n",
       "    </tr>\n",
       "    <tr>\n",
       "      <th>549707</th>\n",
       "      <td>24</td>\n",
       "      <td>23.200000</td>\n",
       "    </tr>\n",
       "    <tr>\n",
       "      <th>169324</th>\n",
       "      <td>11418</td>\n",
       "      <td>13498.900000</td>\n",
       "    </tr>\n",
       "    <tr>\n",
       "      <th>309275</th>\n",
       "      <td>16402</td>\n",
       "      <td>15475.550000</td>\n",
       "    </tr>\n",
       "    <tr>\n",
       "      <th>186779</th>\n",
       "      <td>6505</td>\n",
       "      <td>11284.600000</td>\n",
       "    </tr>\n",
       "    <tr>\n",
       "      <th>178081</th>\n",
       "      <td>10078</td>\n",
       "      <td>13191.700000</td>\n",
       "    </tr>\n",
       "    <tr>\n",
       "      <th>77721</th>\n",
       "      <td>5235</td>\n",
       "      <td>5258.800000</td>\n",
       "    </tr>\n",
       "    <tr>\n",
       "      <th>220069</th>\n",
       "      <td>926</td>\n",
       "      <td>841.100000</td>\n",
       "    </tr>\n",
       "    <tr>\n",
       "      <th>505749</th>\n",
       "      <td>1871</td>\n",
       "      <td>3097.100000</td>\n",
       "    </tr>\n",
       "    <tr>\n",
       "      <th>483261</th>\n",
       "      <td>7946</td>\n",
       "      <td>7689.266667</td>\n",
       "    </tr>\n",
       "    <tr>\n",
       "      <th>346037</th>\n",
       "      <td>15819</td>\n",
       "      <td>14182.400000</td>\n",
       "    </tr>\n",
       "    <tr>\n",
       "      <th>170689</th>\n",
       "      <td>10054</td>\n",
       "      <td>9931.400000</td>\n",
       "    </tr>\n",
       "    <tr>\n",
       "      <th>371623</th>\n",
       "      <td>5476</td>\n",
       "      <td>6301.640000</td>\n",
       "    </tr>\n",
       "    <tr>\n",
       "      <th>469461</th>\n",
       "      <td>19385</td>\n",
       "      <td>19465.400000</td>\n",
       "    </tr>\n",
       "    <tr>\n",
       "      <th>511222</th>\n",
       "      <td>19214</td>\n",
       "      <td>19231.100000</td>\n",
       "    </tr>\n",
       "    <tr>\n",
       "      <th>229774</th>\n",
       "      <td>11657</td>\n",
       "      <td>12034.600000</td>\n",
       "    </tr>\n",
       "    <tr>\n",
       "      <th>259853</th>\n",
       "      <td>12057</td>\n",
       "      <td>12433.800000</td>\n",
       "    </tr>\n",
       "    <tr>\n",
       "      <th>484039</th>\n",
       "      <td>6883</td>\n",
       "      <td>6586.200000</td>\n",
       "    </tr>\n",
       "    <tr>\n",
       "      <th>468967</th>\n",
       "      <td>8770</td>\n",
       "      <td>7173.875000</td>\n",
       "    </tr>\n",
       "    <tr>\n",
       "      <th>473324</th>\n",
       "      <td>11625</td>\n",
       "      <td>15813.800000</td>\n",
       "    </tr>\n",
       "    <tr>\n",
       "      <th>425268</th>\n",
       "      <td>11434</td>\n",
       "      <td>11849.500000</td>\n",
       "    </tr>\n",
       "    <tr>\n",
       "      <th>473541</th>\n",
       "      <td>19075</td>\n",
       "      <td>16018.927143</td>\n",
       "    </tr>\n",
       "    <tr>\n",
       "      <th>398792</th>\n",
       "      <td>15582</td>\n",
       "      <td>15989.100000</td>\n",
       "    </tr>\n",
       "    <tr>\n",
       "      <th>448266</th>\n",
       "      <td>7064</td>\n",
       "      <td>7195.250000</td>\n",
       "    </tr>\n",
       "    <tr>\n",
       "      <th>351333</th>\n",
       "      <td>11900</td>\n",
       "      <td>15196.500000</td>\n",
       "    </tr>\n",
       "    <tr>\n",
       "      <th>88909</th>\n",
       "      <td>5240</td>\n",
       "      <td>6583.200000</td>\n",
       "    </tr>\n",
       "    <tr>\n",
       "      <th>328366</th>\n",
       "      <td>18984</td>\n",
       "      <td>17326.333333</td>\n",
       "    </tr>\n",
       "    <tr>\n",
       "      <th>155800</th>\n",
       "      <td>15363</td>\n",
       "      <td>15492.700000</td>\n",
       "    </tr>\n",
       "    <tr>\n",
       "      <th>271759</th>\n",
       "      <td>9776</td>\n",
       "      <td>8123.400000</td>\n",
       "    </tr>\n",
       "    <tr>\n",
       "      <th>...</th>\n",
       "      <td>...</td>\n",
       "      <td>...</td>\n",
       "    </tr>\n",
       "    <tr>\n",
       "      <th>107707</th>\n",
       "      <td>19172</td>\n",
       "      <td>18193.100000</td>\n",
       "    </tr>\n",
       "    <tr>\n",
       "      <th>115383</th>\n",
       "      <td>5374</td>\n",
       "      <td>6732.466667</td>\n",
       "    </tr>\n",
       "    <tr>\n",
       "      <th>325625</th>\n",
       "      <td>6966</td>\n",
       "      <td>6861.433333</td>\n",
       "    </tr>\n",
       "    <tr>\n",
       "      <th>537586</th>\n",
       "      <td>15270</td>\n",
       "      <td>13794.100000</td>\n",
       "    </tr>\n",
       "    <tr>\n",
       "      <th>382838</th>\n",
       "      <td>19537</td>\n",
       "      <td>19434.766667</td>\n",
       "    </tr>\n",
       "    <tr>\n",
       "      <th>472310</th>\n",
       "      <td>1972</td>\n",
       "      <td>2462.000000</td>\n",
       "    </tr>\n",
       "    <tr>\n",
       "      <th>390729</th>\n",
       "      <td>6976</td>\n",
       "      <td>7176.700000</td>\n",
       "    </tr>\n",
       "    <tr>\n",
       "      <th>334759</th>\n",
       "      <td>12030</td>\n",
       "      <td>12720.000000</td>\n",
       "    </tr>\n",
       "    <tr>\n",
       "      <th>204515</th>\n",
       "      <td>7124</td>\n",
       "      <td>4395.453333</td>\n",
       "    </tr>\n",
       "    <tr>\n",
       "      <th>435189</th>\n",
       "      <td>19410</td>\n",
       "      <td>18148.800000</td>\n",
       "    </tr>\n",
       "    <tr>\n",
       "      <th>372552</th>\n",
       "      <td>7970</td>\n",
       "      <td>8335.600000</td>\n",
       "    </tr>\n",
       "    <tr>\n",
       "      <th>108761</th>\n",
       "      <td>8588</td>\n",
       "      <td>8135.150000</td>\n",
       "    </tr>\n",
       "    <tr>\n",
       "      <th>51384</th>\n",
       "      <td>2287</td>\n",
       "      <td>2380.200000</td>\n",
       "    </tr>\n",
       "    <tr>\n",
       "      <th>375090</th>\n",
       "      <td>7097</td>\n",
       "      <td>6696.730000</td>\n",
       "    </tr>\n",
       "    <tr>\n",
       "      <th>52132</th>\n",
       "      <td>11939</td>\n",
       "      <td>12818.600000</td>\n",
       "    </tr>\n",
       "    <tr>\n",
       "      <th>92317</th>\n",
       "      <td>19676</td>\n",
       "      <td>18861.460833</td>\n",
       "    </tr>\n",
       "    <tr>\n",
       "      <th>325246</th>\n",
       "      <td>15389</td>\n",
       "      <td>14293.466667</td>\n",
       "    </tr>\n",
       "    <tr>\n",
       "      <th>195313</th>\n",
       "      <td>3594</td>\n",
       "      <td>6512.900000</td>\n",
       "    </tr>\n",
       "    <tr>\n",
       "      <th>456568</th>\n",
       "      <td>7967</td>\n",
       "      <td>8700.700000</td>\n",
       "    </tr>\n",
       "    <tr>\n",
       "      <th>448761</th>\n",
       "      <td>8053</td>\n",
       "      <td>8047.500000</td>\n",
       "    </tr>\n",
       "    <tr>\n",
       "      <th>254657</th>\n",
       "      <td>7126</td>\n",
       "      <td>6702.300000</td>\n",
       "    </tr>\n",
       "    <tr>\n",
       "      <th>443066</th>\n",
       "      <td>6980</td>\n",
       "      <td>6853.300000</td>\n",
       "    </tr>\n",
       "    <tr>\n",
       "      <th>460328</th>\n",
       "      <td>7187</td>\n",
       "      <td>7405.340000</td>\n",
       "    </tr>\n",
       "    <tr>\n",
       "      <th>369753</th>\n",
       "      <td>8798</td>\n",
       "      <td>8530.160000</td>\n",
       "    </tr>\n",
       "    <tr>\n",
       "      <th>176531</th>\n",
       "      <td>7161</td>\n",
       "      <td>6803.000000</td>\n",
       "    </tr>\n",
       "    <tr>\n",
       "      <th>183460</th>\n",
       "      <td>5970</td>\n",
       "      <td>7124.800000</td>\n",
       "    </tr>\n",
       "    <tr>\n",
       "      <th>301461</th>\n",
       "      <td>3626</td>\n",
       "      <td>4679.833333</td>\n",
       "    </tr>\n",
       "    <tr>\n",
       "      <th>99652</th>\n",
       "      <td>7974</td>\n",
       "      <td>8095.020000</td>\n",
       "    </tr>\n",
       "    <tr>\n",
       "      <th>365052</th>\n",
       "      <td>13120</td>\n",
       "      <td>13708.800000</td>\n",
       "    </tr>\n",
       "    <tr>\n",
       "      <th>460432</th>\n",
       "      <td>1947</td>\n",
       "      <td>3488.400000</td>\n",
       "    </tr>\n",
       "  </tbody>\n",
       "</table>\n",
       "<p>136940 rows × 2 columns</p>\n",
       "</div>"
      ],
      "text/plain": [
       "            y           pre\n",
       "198427  19053  18399.200000\n",
       "445747   1780   2155.500000\n",
       "549707     24     23.200000\n",
       "169324  11418  13498.900000\n",
       "309275  16402  15475.550000\n",
       "186779   6505  11284.600000\n",
       "178081  10078  13191.700000\n",
       "77721    5235   5258.800000\n",
       "220069    926    841.100000\n",
       "505749   1871   3097.100000\n",
       "483261   7946   7689.266667\n",
       "346037  15819  14182.400000\n",
       "170689  10054   9931.400000\n",
       "371623   5476   6301.640000\n",
       "469461  19385  19465.400000\n",
       "511222  19214  19231.100000\n",
       "229774  11657  12034.600000\n",
       "259853  12057  12433.800000\n",
       "484039   6883   6586.200000\n",
       "468967   8770   7173.875000\n",
       "473324  11625  15813.800000\n",
       "425268  11434  11849.500000\n",
       "473541  19075  16018.927143\n",
       "398792  15582  15989.100000\n",
       "448266   7064   7195.250000\n",
       "351333  11900  15196.500000\n",
       "88909    5240   6583.200000\n",
       "328366  18984  17326.333333\n",
       "155800  15363  15492.700000\n",
       "271759   9776   8123.400000\n",
       "...       ...           ...\n",
       "107707  19172  18193.100000\n",
       "115383   5374   6732.466667\n",
       "325625   6966   6861.433333\n",
       "537586  15270  13794.100000\n",
       "382838  19537  19434.766667\n",
       "472310   1972   2462.000000\n",
       "390729   6976   7176.700000\n",
       "334759  12030  12720.000000\n",
       "204515   7124   4395.453333\n",
       "435189  19410  18148.800000\n",
       "372552   7970   8335.600000\n",
       "108761   8588   8135.150000\n",
       "51384    2287   2380.200000\n",
       "375090   7097   6696.730000\n",
       "52132   11939  12818.600000\n",
       "92317   19676  18861.460833\n",
       "325246  15389  14293.466667\n",
       "195313   3594   6512.900000\n",
       "456568   7967   8700.700000\n",
       "448761   8053   8047.500000\n",
       "254657   7126   6702.300000\n",
       "443066   6980   6853.300000\n",
       "460328   7187   7405.340000\n",
       "369753   8798   8530.160000\n",
       "176531   7161   6803.000000\n",
       "183460   5970   7124.800000\n",
       "301461   3626   4679.833333\n",
       "99652    7974   8095.020000\n",
       "365052  13120  13708.800000\n",
       "460432   1947   3488.400000\n",
       "\n",
       "[136940 rows x 2 columns]"
      ]
     },
     "execution_count": 457,
     "metadata": {},
     "output_type": "execute_result"
    }
   ],
   "source": [
    "result_c=pd.DataFrame()\n",
    "result_c[\"y\"]=ytrain\n",
    "result_c[\"pre\"]=pre\n",
    "result_c"
   ]
  },
  {
   "cell_type": "code",
   "execution_count": 480,
   "metadata": {},
   "outputs": [],
   "source": [
    "new_train=train.copy()"
   ]
  }
 ],
 "metadata": {
  "kernelspec": {
   "display_name": "Python 3",
   "language": "python",
   "name": "python3"
  },
  "language_info": {
   "codemirror_mode": {
    "name": "ipython",
    "version": 3
   },
   "file_extension": ".py",
   "mimetype": "text/x-python",
   "name": "python",
   "nbconvert_exporter": "python",
   "pygments_lexer": "ipython3",
   "version": "3.7.3"
  }
 },
 "nbformat": 4,
 "nbformat_minor": 2
}
